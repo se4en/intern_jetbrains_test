{
 "cells": [
  {
   "cell_type": "code",
   "execution_count": 2,
   "id": "typical-limitation",
   "metadata": {
    "id": "typical-limitation"
   },
   "outputs": [],
   "source": [
    "import numpy as np\n",
    "import pandas as pd\n",
    "from glob import iglob\n",
    "import gzip\n",
    "import os\n",
    "import shutil\n",
    "import json"
   ]
  },
  {
   "cell_type": "code",
   "execution_count": 3,
   "id": "pretty-intake",
   "metadata": {
    "id": "pretty-intake"
   },
   "outputs": [],
   "source": [
    "import lightgbm as lgb\n",
    "from sklearn.metrics import r2_score\n",
    "from sklearn.model_selection import train_test_split"
   ]
  },
  {
   "cell_type": "markdown",
   "id": "identified-luxembourg",
   "metadata": {
    "id": "identified-luxembourg"
   },
   "source": [
    "# PART 1\n",
    "## Data preparation"
   ]
  },
  {
   "cell_type": "markdown",
   "id": "assisted-subscriber",
   "metadata": {
    "id": "assisted-subscriber"
   },
   "source": [
    "#### Unzip files"
   ]
  },
  {
   "cell_type": "code",
   "execution_count": 3,
   "id": "demographic-moldova",
   "metadata": {
    "id": "demographic-moldova"
   },
   "outputs": [],
   "source": [
    "PATH_WITH_GZ = \"archive/\"\n",
    "NEW_PATH = \"dataset/\""
   ]
  },
  {
   "cell_type": "code",
   "execution_count": null,
   "id": "surface-infrastructure",
   "metadata": {},
   "outputs": [],
   "source": [
    "os.mkdir(NEW_PATH)"
   ]
  },
  {
   "cell_type": "code",
   "execution_count": null,
   "id": "unique-apparatus",
   "metadata": {
    "id": "unique-apparatus"
   },
   "outputs": [],
   "source": [
    "for file in iglob(PATH_WITH_GZ + \"/*.gz\"):\n",
    "    with gzip.open(file, 'rb') as f_in:\n",
    "        with open(os.path.join(NEW_PATH, os.path.basename(file)[:-3]), 'wb') as f_out:\n",
    "            shutil.copyfileobj(f_in, f_out)"
   ]
  },
  {
   "cell_type": "markdown",
   "id": "engaged-philippines",
   "metadata": {
    "id": "engaged-philippines"
   },
   "source": [
    "#### Create table 1"
   ]
  },
  {
   "cell_type": "code",
   "execution_count": 6,
   "id": "opposite-madrid",
   "metadata": {
    "id": "opposite-madrid"
   },
   "outputs": [],
   "source": [
    "def read_data_from_file(file):\n",
    "    result = dict()\n",
    "    with open(file, 'rb') as f:\n",
    "        content = f.read()\n",
    "        for paper in content.decode('utf-8', 'ignore').split('\\n'):\n",
    "            if paper:\n",
    "                paper = json.loads(paper)\n",
    "                id = paper.pop('id')\n",
    "                result[id] = paper\n",
    "    return result"
   ]
  },
  {
   "cell_type": "code",
   "execution_count": 7,
   "id": "informal-times",
   "metadata": {
    "id": "informal-times"
   },
   "outputs": [],
   "source": [
    "def create_table_1():\n",
    "    frames = []\n",
    "    for file in iglob(NEW_PATH + \"/*\"):\n",
    "        data_dict = read_data_from_file(file)\n",
    "        data_df = pd.DataFrame.from_dict(data_dict, orient='index')\n",
    "        data_df.reset_index(inplace=True)\n",
    "        data_df = data_df.rename(columns = {'index':'id'})\n",
    "        frames.append(data_df)\n",
    "    return pd.concat(frames, ignore_index=True)"
   ]
  },
  {
   "cell_type": "code",
   "execution_count": 8,
   "id": "imported-storage",
   "metadata": {
    "id": "imported-storage"
   },
   "outputs": [],
   "source": [
    "table_1 = create_table_1()"
   ]
  },
  {
   "cell_type": "code",
   "execution_count": 9,
   "id": "widespread-fleet",
   "metadata": {
    "colab": {
     "base_uri": "https://localhost:8080/"
    },
    "id": "widespread-fleet",
    "outputId": "36d2a9c1-c684-4b5c-d6e6-9e6cc6d0b5b2"
   },
   "outputs": [
    {
     "name": "stdout",
     "output_type": "stream",
     "text": [
      "<class 'pandas.core.frame.DataFrame'>\n",
      "RangeIndex: 954657 entries, 0 to 954656\n",
      "Data columns (total 21 columns):\n",
      " #   Column         Non-Null Count   Dtype  \n",
      "---  ------         --------------   -----  \n",
      " 0   id             954657 non-null  object \n",
      " 1   title          954657 non-null  object \n",
      " 2   paperAbstract  954657 non-null  object \n",
      " 3   authors        954657 non-null  object \n",
      " 4   inCitations    954657 non-null  object \n",
      " 5   outCitations   954657 non-null  object \n",
      " 6   year           950001 non-null  float64\n",
      " 7   s2Url          954657 non-null  object \n",
      " 8   sources        954657 non-null  object \n",
      " 9   pdfUrls        954657 non-null  object \n",
      " 10  venue          954657 non-null  object \n",
      " 11  journalName    954657 non-null  object \n",
      " 12  journalVolume  954657 non-null  object \n",
      " 13  journalPages   954657 non-null  object \n",
      " 14  doi            954657 non-null  object \n",
      " 15  doiUrl         954657 non-null  object \n",
      " 16  pmid           954657 non-null  object \n",
      " 17  fieldsOfStudy  954657 non-null  object \n",
      " 18  magId          954657 non-null  object \n",
      " 19  s2PdfUrl       954657 non-null  object \n",
      " 20  entities       954657 non-null  object \n",
      "dtypes: float64(1), object(20)\n",
      "memory usage: 153.0+ MB\n"
     ]
    }
   ],
   "source": [
    "table_1.info()"
   ]
  },
  {
   "cell_type": "code",
   "execution_count": 10,
   "id": "authentic-public",
   "metadata": {
    "colab": {
     "base_uri": "https://localhost:8080/",
     "height": 539
    },
    "id": "authentic-public",
    "outputId": "d9d84701-175a-4ec4-9cd7-3eeee1d96feb"
   },
   "outputs": [
    {
     "data": {
      "text/html": [
       "<div>\n",
       "<style scoped>\n",
       "    .dataframe tbody tr th:only-of-type {\n",
       "        vertical-align: middle;\n",
       "    }\n",
       "\n",
       "    .dataframe tbody tr th {\n",
       "        vertical-align: top;\n",
       "    }\n",
       "\n",
       "    .dataframe thead th {\n",
       "        text-align: right;\n",
       "    }\n",
       "</style>\n",
       "<table border=\"1\" class=\"dataframe\">\n",
       "  <thead>\n",
       "    <tr style=\"text-align: right;\">\n",
       "      <th></th>\n",
       "      <th>id</th>\n",
       "      <th>title</th>\n",
       "      <th>paperAbstract</th>\n",
       "      <th>authors</th>\n",
       "      <th>inCitations</th>\n",
       "      <th>outCitations</th>\n",
       "      <th>year</th>\n",
       "      <th>s2Url</th>\n",
       "      <th>sources</th>\n",
       "      <th>pdfUrls</th>\n",
       "      <th>venue</th>\n",
       "      <th>journalName</th>\n",
       "      <th>journalVolume</th>\n",
       "      <th>journalPages</th>\n",
       "      <th>doi</th>\n",
       "      <th>doiUrl</th>\n",
       "      <th>pmid</th>\n",
       "      <th>fieldsOfStudy</th>\n",
       "      <th>magId</th>\n",
       "      <th>s2PdfUrl</th>\n",
       "      <th>entities</th>\n",
       "    </tr>\n",
       "  </thead>\n",
       "  <tbody>\n",
       "    <tr>\n",
       "      <th>954652</th>\n",
       "      <td>d5df1a87b699adea9d30d043f7afd9af25e81ca1</td>\n",
       "      <td>Fabrication of mesoporous calcium silicate/cal...</td>\n",
       "      <td>In this study, we explored the feasibility of ...</td>\n",
       "      <td>[{'name': 'Cuidi  Li', 'ids': ['9171214']}, {'...</td>\n",
       "      <td>[c41970a14a362c530b14619e02be563306684164, ab2...</td>\n",
       "      <td>[0b52ba17fb6908bc796746f990825ead84b9f4e7, 6da...</td>\n",
       "      <td>2015.0</td>\n",
       "      <td>https://semanticscholar.org/paper/d5df1a87b699...</td>\n",
       "      <td>[]</td>\n",
       "      <td>[]</td>\n",
       "      <td>Journal of Materials Science</td>\n",
       "      <td>Journal of Materials Science</td>\n",
       "      <td>50</td>\n",
       "      <td>7182-7191</td>\n",
       "      <td>10.1007/s10853-015-9244-1</td>\n",
       "      <td>https://doi.org/10.1007/s10853-015-9244-1</td>\n",
       "      <td></td>\n",
       "      <td>[Materials Science]</td>\n",
       "      <td>1166372123</td>\n",
       "      <td></td>\n",
       "      <td>[]</td>\n",
       "    </tr>\n",
       "    <tr>\n",
       "      <th>954653</th>\n",
       "      <td>5ea8cd8d169b47560660393f6fdea96d929cb12f</td>\n",
       "      <td>原发性皮肤粘液表皮样癌</td>\n",
       "      <td></td>\n",
       "      <td>[{'name': 'Saifengzhai  Wang', 'ids': ['199716...</td>\n",
       "      <td>[]</td>\n",
       "      <td>[]</td>\n",
       "      <td>1992.0</td>\n",
       "      <td>https://semanticscholar.org/paper/5ea8cd8d169b...</td>\n",
       "      <td>[]</td>\n",
       "      <td>[]</td>\n",
       "      <td></td>\n",
       "      <td>International Journal of Dermatology and Vener...</td>\n",
       "      <td>18</td>\n",
       "      <td>120-120</td>\n",
       "      <td></td>\n",
       "      <td></td>\n",
       "      <td></td>\n",
       "      <td>[]</td>\n",
       "      <td>3029132450</td>\n",
       "      <td></td>\n",
       "      <td>[]</td>\n",
       "    </tr>\n",
       "    <tr>\n",
       "      <th>954654</th>\n",
       "      <td>7611188a312a27bdc1529e393efab63a722aab91</td>\n",
       "      <td>Study of the neuronal activity in the interoce...</td>\n",
       "      <td></td>\n",
       "      <td>[{'name': 'Rodríguez  Soto', 'ids': ['14367892...</td>\n",
       "      <td>[]</td>\n",
       "      <td>[fa31a35af7c25f27ab6ae9073ab65e38cfe4a99e, 3f3...</td>\n",
       "      <td>2018.0</td>\n",
       "      <td>https://semanticscholar.org/paper/7611188a312a...</td>\n",
       "      <td>[]</td>\n",
       "      <td>[https://repositorio.uc.cl/bitstream/handle/11...</td>\n",
       "      <td></td>\n",
       "      <td></td>\n",
       "      <td></td>\n",
       "      <td></td>\n",
       "      <td></td>\n",
       "      <td></td>\n",
       "      <td></td>\n",
       "      <td>[Biology]</td>\n",
       "      <td>2889450986</td>\n",
       "      <td></td>\n",
       "      <td>[]</td>\n",
       "    </tr>\n",
       "    <tr>\n",
       "      <th>954655</th>\n",
       "      <td>7a377f20de3b081ab71aef1554716d29c47a00b1</td>\n",
       "      <td>The Policy Analysis of Iran's Health Transform...</td>\n",
       "      <td>Background:Health Transformation Plan (HTP) is...</td>\n",
       "      <td>[{'name': 'Haniye Sadat Sajadi', 'ids': ['7764...</td>\n",
       "      <td>[f1d05b38fe6a36bbc27114e75a515866c8185b90, fe6...</td>\n",
       "      <td>[64065bdd912afaf04ec860483c02103da390a1f7, 018...</td>\n",
       "      <td>2018.0</td>\n",
       "      <td>https://semanticscholar.org/paper/7a377f20de3b...</td>\n",
       "      <td>[]</td>\n",
       "      <td>[http://hakim.hbi.ir/article-1-1720-en.pdf]</td>\n",
       "      <td></td>\n",
       "      <td>Hakim Research Journal</td>\n",
       "      <td>21</td>\n",
       "      <td>71-88</td>\n",
       "      <td></td>\n",
       "      <td></td>\n",
       "      <td></td>\n",
       "      <td>[Business]</td>\n",
       "      <td>2909120275</td>\n",
       "      <td></td>\n",
       "      <td>[]</td>\n",
       "    </tr>\n",
       "    <tr>\n",
       "      <th>954656</th>\n",
       "      <td>0aa4ee6a29f0f0d595269689b6a2facf41756b46</td>\n",
       "      <td>Stereoselective synthesis of maresin 1</td>\n",
       "      <td>Maresin 1 is a potent anti-inflammatory and pr...</td>\n",
       "      <td>[{'name': 'Jørn Eivind Tungen', 'ids': ['72608...</td>\n",
       "      <td>[5863bc995d8c5f9683ad922fa1df7a9eab59d35d, 7df...</td>\n",
       "      <td>[0996230c781bb5c7e5aecf6ab81550f594d73fda, 77e...</td>\n",
       "      <td>2015.0</td>\n",
       "      <td>https://semanticscholar.org/paper/0aa4ee6a29f0...</td>\n",
       "      <td>[]</td>\n",
       "      <td>[]</td>\n",
       "      <td></td>\n",
       "      <td>Tetrahedron Letters</td>\n",
       "      <td>56</td>\n",
       "      <td>1843-1846</td>\n",
       "      <td>10.1016/J.TETLET.2015.02.080</td>\n",
       "      <td>https://doi.org/10.1016/J.TETLET.2015.02.080</td>\n",
       "      <td></td>\n",
       "      <td>[Chemistry]</td>\n",
       "      <td>1979477170</td>\n",
       "      <td></td>\n",
       "      <td>[]</td>\n",
       "    </tr>\n",
       "  </tbody>\n",
       "</table>\n",
       "</div>"
      ],
      "text/plain": [
       "                                              id  ... entities\n",
       "954652  d5df1a87b699adea9d30d043f7afd9af25e81ca1  ...       []\n",
       "954653  5ea8cd8d169b47560660393f6fdea96d929cb12f  ...       []\n",
       "954654  7611188a312a27bdc1529e393efab63a722aab91  ...       []\n",
       "954655  7a377f20de3b081ab71aef1554716d29c47a00b1  ...       []\n",
       "954656  0aa4ee6a29f0f0d595269689b6a2facf41756b46  ...       []\n",
       "\n",
       "[5 rows x 21 columns]"
      ]
     },
     "execution_count": 10,
     "metadata": {
      "tags": []
     },
     "output_type": "execute_result"
    }
   ],
   "source": [
    "table_1.tail()"
   ]
  },
  {
   "cell_type": "markdown",
   "id": "fancy-ivory",
   "metadata": {
    "id": "fancy-ivory"
   },
   "source": [
    "#### Create table 2"
   ]
  },
  {
   "cell_type": "markdown",
   "id": "wireless-handy",
   "metadata": {
    "id": "wireless-handy"
   },
   "source": [
    "Если не учитывать те статьи, в которых хотя бы одна цитата ссылается на статью не из нашего корпуса:"
   ]
  },
  {
   "cell_type": "code",
   "execution_count": 11,
   "id": "guided-speaking",
   "metadata": {
    "id": "guided-speaking"
   },
   "outputs": [],
   "source": [
    "def create_table_2(table_1):\n",
    "    # prepare dataframe\n",
    "    df = table_1[table_1['year'].notna()]\n",
    "    df = df.astype({'year': 'int16'})\n",
    "    id2year = df.set_index('id')['year'].to_dict()\n",
    "    id2cit = df.set_index('id')['inCitations'].to_dict()\n",
    "    all_ids = set(df['id'].tolist())\n",
    "    table_2 = dict()\n",
    "    \n",
    "    for cur_id in all_ids:\n",
    "        in_citations = id2cit[cur_id]\n",
    "        if in_citations:\n",
    "            # if all papers in our dataset\n",
    "            if all(cit_id in all_ids for cit_id in in_citations):\n",
    "                cur_year = id2year[cur_id]\n",
    "                # delete more than 5-years citations\n",
    "                count = len(list(filter(lambda x: id2year[x]<=cur_year+5, in_citations)))\n",
    "                table_2[cur_id] = {\"target\":count}\n",
    "        else:\n",
    "            table_2[cur_id] = {\"target\":0}\n",
    "    \n",
    "    \n",
    "    res_df = pd.DataFrame.from_dict(table_2, orient='index')\n",
    "    res_df.reset_index(inplace=True)\n",
    "    return res_df.rename(columns = {'index':'id'})"
   ]
  },
  {
   "cell_type": "code",
   "execution_count": 12,
   "id": "departmental-acrylic",
   "metadata": {
    "id": "departmental-acrylic"
   },
   "outputs": [],
   "source": [
    "table_2 = create_table_2(table_1)"
   ]
  },
  {
   "cell_type": "code",
   "execution_count": 13,
   "id": "cultural-translator",
   "metadata": {
    "colab": {
     "base_uri": "https://localhost:8080/",
     "height": 300
    },
    "id": "cultural-translator",
    "outputId": "9e1f7032-802c-4b03-877f-8121ced462c4"
   },
   "outputs": [
    {
     "data": {
      "text/html": [
       "<div>\n",
       "<style scoped>\n",
       "    .dataframe tbody tr th:only-of-type {\n",
       "        vertical-align: middle;\n",
       "    }\n",
       "\n",
       "    .dataframe tbody tr th {\n",
       "        vertical-align: top;\n",
       "    }\n",
       "\n",
       "    .dataframe thead th {\n",
       "        text-align: right;\n",
       "    }\n",
       "</style>\n",
       "<table border=\"1\" class=\"dataframe\">\n",
       "  <thead>\n",
       "    <tr style=\"text-align: right;\">\n",
       "      <th></th>\n",
       "      <th>target</th>\n",
       "    </tr>\n",
       "  </thead>\n",
       "  <tbody>\n",
       "    <tr>\n",
       "      <th>count</th>\n",
       "      <td>547296.000000</td>\n",
       "    </tr>\n",
       "    <tr>\n",
       "      <th>mean</th>\n",
       "      <td>0.000424</td>\n",
       "    </tr>\n",
       "    <tr>\n",
       "      <th>std</th>\n",
       "      <td>0.020585</td>\n",
       "    </tr>\n",
       "    <tr>\n",
       "      <th>min</th>\n",
       "      <td>0.000000</td>\n",
       "    </tr>\n",
       "    <tr>\n",
       "      <th>25%</th>\n",
       "      <td>0.000000</td>\n",
       "    </tr>\n",
       "    <tr>\n",
       "      <th>50%</th>\n",
       "      <td>0.000000</td>\n",
       "    </tr>\n",
       "    <tr>\n",
       "      <th>75%</th>\n",
       "      <td>0.000000</td>\n",
       "    </tr>\n",
       "    <tr>\n",
       "      <th>max</th>\n",
       "      <td>1.000000</td>\n",
       "    </tr>\n",
       "  </tbody>\n",
       "</table>\n",
       "</div>"
      ],
      "text/plain": [
       "              target\n",
       "count  547296.000000\n",
       "mean        0.000424\n",
       "std         0.020585\n",
       "min         0.000000\n",
       "25%         0.000000\n",
       "50%         0.000000\n",
       "75%         0.000000\n",
       "max         1.000000"
      ]
     },
     "execution_count": 13,
     "metadata": {
      "tags": []
     },
     "output_type": "execute_result"
    }
   ],
   "source": [
    "table_2.describe()"
   ]
  },
  {
   "cell_type": "markdown",
   "id": "western-settlement",
   "metadata": {
    "id": "western-settlement"
   },
   "source": [
    "Очевидно, что из-за смещенной выборки, такие данные нам не подойдут( получилось, что не бывает больше 1 цитаты на статью в последующие 5 лет ). Теперь попробудем не учитывать только сами цитаты на статьи не из нашего корпуса, но такие данные будут сильно искажены."
   ]
  },
  {
   "cell_type": "code",
   "execution_count": 14,
   "id": "informational-updating",
   "metadata": {
    "id": "informational-updating"
   },
   "outputs": [],
   "source": [
    "def create_table_2_upd(table_1):\n",
    "    # prepare dataframe\n",
    "    df = table_1[table_1['year'].notna()]\n",
    "    df = df.astype({'year': 'int16'})\n",
    "    id2year = df.set_index('id')['year'].to_dict()\n",
    "    id2cit = df.set_index('id')['inCitations'].to_dict()\n",
    "    all_ids = set(df['id'].tolist())\n",
    "    table_2 = dict()\n",
    "    \n",
    "    for cur_id in all_ids:\n",
    "        in_citations = id2cit[cur_id]\n",
    "        if in_citations:\n",
    "            cur_year = id2year[cur_id]\n",
    "            # delete more than 5-years citations\n",
    "            count = len(list(filter(lambda x: x in all_ids and id2year[x]<=cur_year+5, in_citations)))\n",
    "            table_2[cur_id] = {\"target\":count}\n",
    "        else:\n",
    "            table_2[cur_id] = {\"target\":0}\n",
    "    \n",
    "    \n",
    "    res_df = pd.DataFrame.from_dict(table_2, orient='index')\n",
    "    res_df.reset_index(inplace=True)\n",
    "    return res_df.rename(columns = {'index':'id'})"
   ]
  },
  {
   "cell_type": "code",
   "execution_count": 15,
   "id": "cleared-likelihood",
   "metadata": {
    "id": "cleared-likelihood"
   },
   "outputs": [],
   "source": [
    "table_2_upd = create_table_2_upd(table_1)"
   ]
  },
  {
   "cell_type": "code",
   "execution_count": 16,
   "id": "narrative-graduate",
   "metadata": {
    "colab": {
     "base_uri": "https://localhost:8080/",
     "height": 300
    },
    "id": "narrative-graduate",
    "outputId": "52ae6bc3-88e8-477b-c931-4bc5dbf32ec0"
   },
   "outputs": [
    {
     "data": {
      "text/html": [
       "<div>\n",
       "<style scoped>\n",
       "    .dataframe tbody tr th:only-of-type {\n",
       "        vertical-align: middle;\n",
       "    }\n",
       "\n",
       "    .dataframe tbody tr th {\n",
       "        vertical-align: top;\n",
       "    }\n",
       "\n",
       "    .dataframe thead th {\n",
       "        text-align: right;\n",
       "    }\n",
       "</style>\n",
       "<table border=\"1\" class=\"dataframe\">\n",
       "  <thead>\n",
       "    <tr style=\"text-align: right;\">\n",
       "      <th></th>\n",
       "      <th>target</th>\n",
       "    </tr>\n",
       "  </thead>\n",
       "  <tbody>\n",
       "    <tr>\n",
       "      <th>count</th>\n",
       "      <td>950001.000000</td>\n",
       "    </tr>\n",
       "    <tr>\n",
       "      <th>mean</th>\n",
       "      <td>0.018217</td>\n",
       "    </tr>\n",
       "    <tr>\n",
       "      <th>std</th>\n",
       "      <td>0.159561</td>\n",
       "    </tr>\n",
       "    <tr>\n",
       "      <th>min</th>\n",
       "      <td>0.000000</td>\n",
       "    </tr>\n",
       "    <tr>\n",
       "      <th>25%</th>\n",
       "      <td>0.000000</td>\n",
       "    </tr>\n",
       "    <tr>\n",
       "      <th>50%</th>\n",
       "      <td>0.000000</td>\n",
       "    </tr>\n",
       "    <tr>\n",
       "      <th>75%</th>\n",
       "      <td>0.000000</td>\n",
       "    </tr>\n",
       "    <tr>\n",
       "      <th>max</th>\n",
       "      <td>15.000000</td>\n",
       "    </tr>\n",
       "  </tbody>\n",
       "</table>\n",
       "</div>"
      ],
      "text/plain": [
       "              target\n",
       "count  950001.000000\n",
       "mean        0.018217\n",
       "std         0.159561\n",
       "min         0.000000\n",
       "25%         0.000000\n",
       "50%         0.000000\n",
       "75%         0.000000\n",
       "max        15.000000"
      ]
     },
     "execution_count": 16,
     "metadata": {
      "tags": []
     },
     "output_type": "execute_result"
    }
   ],
   "source": [
    "table_2_upd.describe()"
   ]
  },
  {
   "cell_type": "markdown",
   "id": "express-financing",
   "metadata": {
    "id": "express-financing"
   },
   "source": [
    "Такие данные уже больше похожи на реальные, хотя они все равно заметно искажены. Будем работать с этими данными."
   ]
  },
  {
   "cell_type": "markdown",
   "id": "continuing-tucson",
   "metadata": {
    "id": "continuing-tucson"
   },
   "source": [
    "#### Features generation"
   ]
  },
  {
   "cell_type": "markdown",
   "id": "signal-disco",
   "metadata": {
    "id": "signal-disco"
   },
   "source": [
    "Здесь я формирую следующие признаки:\n",
    " - число авторов;\n",
    " - число страниц;\n",
    " - число слов в названии;\n",
    " - число цитируемых статей; \n",
    " - среднее число цитат на статьи, цитируемые в этой статье, в последующие 5 лет;\n",
    "\n",
    " Впоследствии я отказался от следующих признаков:\n",
    " \n",
    " \n",
    " - среднее число статей у авторов;\n",
    " - среднее число цитат на статьи этих авторов в последующие 5 лет;\n",
    " - входит ли журнал в топ-3( топ-10, топ-100 ) по среднему количеству цитат в последующие 5 лет;\n",
    "\n",
    "  Т.к. из-за особенности наших данных( см. ниже ), каждый автор встречается не более одного раза, а также из-за большого количества журналов, эти признаки на тестовом множестве получились бесполезными, хотя на них были большие надежды :)"
   ]
  },
  {
   "cell_type": "code",
   "execution_count": 18,
   "id": "statistical-milton",
   "metadata": {
    "id": "statistical-milton"
   },
   "outputs": [],
   "source": [
    "def build_features(table_1_2, table_1_2_train, table_1_2_test):\n",
    "    train_ids = set(table_1_2_train['id'].tolist())\n",
    "    test_ids = set(table_1_2_test['id'].tolist())\n",
    "    all_ids = set(table_1_2['id'].tolist())\n",
    "    train = dict()\n",
    "    test = dict()\n",
    "\n",
    "    # таргет\n",
    "    id2target = table_1_2.set_index('id')['target'].to_dict()\n",
    "    \n",
    "    # число авторов\n",
    "    id2authCnt = table_1_2.set_index('id')['authors'].to_dict()\n",
    "    for key, value in id2authCnt.items():\n",
    "        id2authCnt[key] = len(value)\n",
    "        \n",
    "    # статьи авторов\n",
    "    auth2id = dict()\n",
    "    id2authTrain = table_1_2_train.set_index('id')['authors'].to_dict()\n",
    "    for key, value in id2authTrain.items():\n",
    "        for auth in value:\n",
    "            for auth_id in auth['ids']:\n",
    "                if auth_id in auth2id:\n",
    "                    auth2id[auth_id].append(key)\n",
    "                else:\n",
    "                    auth2id[auth_id] = [key]\n",
    "\n",
    "    # среднее значение таргета у статей автора\n",
    "    auth2mean = dict()\n",
    "    for key, value in auth2id.items():\n",
    "        _targets = []\n",
    "        for paper in value:\n",
    "            _targets.append(id2target[paper])\n",
    "        auth2id[key] = sum(_targets) / len(_targets)\n",
    "\n",
    "\n",
    "    # число страниц \n",
    "    id2pages = dict()\n",
    "    _id2pages = table_1_2.set_index('id')['journalPages'].to_dict()\n",
    "    for key, value in _id2pages.items():\n",
    "        value = value.replace(' ', '')\n",
    "        value = value.replace('\\n', '')\n",
    "        value = value.replace('\\t', '')\n",
    "        if value:\n",
    "            left_right = value.split('-')\n",
    "            if len(left_right) == 2 and left_right[0].isdigit() and left_right[1].isdigit():\n",
    "                p_cnt = int(left_right[1]) - int(left_right[0])\n",
    "                # здесь я поставил искусственное ограничение на количество страниц\n",
    "                # т.к. некоторые результаты получались не правдоподобными\n",
    "                if  p_cnt >= 0 and p_cnt < 100:\n",
    "                    id2pages[key] = p_cnt\n",
    "\n",
    "    # число слов в названии\n",
    "    id2titleLen = table_1_2.set_index('id')['title'].to_dict()\n",
    "    for key, value in id2titleLen.items():\n",
    "        id2titleLen[key] = len(value.split(' '))\n",
    "    \n",
    "    # число цитируемых статей\n",
    "    id2citCnt = dict()\n",
    "    id2citOut = table_1_2.set_index('id')['outCitations'].to_dict()\n",
    "    for key, value in id2citOut.items():\n",
    "        id2citCnt[key] = len(value)\n",
    "\n",
    "    # журналы\n",
    "    best_j = []\n",
    "    j2paper = dict()\n",
    "    id2j = table_1_2_train.set_index('id')['journalName'].to_dict()\n",
    "    for key, value in id2j.items():\n",
    "        if value:\n",
    "            if value in j2paper:\n",
    "                j2paper[value].append(key)\n",
    "            else:\n",
    "                j2paper[value] = [key]\n",
    "    for key, value in j2paper.items():\n",
    "        _targets = []\n",
    "        for _paper in value:\n",
    "            _targets.append(id2target[_paper])\n",
    "        if _targets:\n",
    "            j2paper[key] = sum(_targets) / len(_targets)\n",
    "        else:\n",
    "            j2paper[key] = 0\n",
    "    # сортируем журналы\n",
    "    best_j = [k for k, v in sorted(j2paper.items(), key=lambda item: item[1], reverse=True)][:100]\n",
    "\n",
    "    for cur_id in all_ids:\n",
    "\n",
    "        # число страниц\n",
    "        if cur_id in id2pages:\n",
    "            pages = id2pages[cur_id]\n",
    "        else:\n",
    "            pages = np.nan\n",
    "        \n",
    "        # среднее число статей у авторов\n",
    "        if cur_id in id2authTrain:\n",
    "            _authPapers = []\n",
    "            _auths = id2authTrain[cur_id]\n",
    "            for _auth in _auths:\n",
    "                _sum = []\n",
    "                for _auth_id in _auth['ids']:\n",
    "                    _sum.append(auth2id[_auth_id])\n",
    "                _authPapers.append(len(_sum))\n",
    "            if _authPapers:\n",
    "                authPapers = sum(_authPapers) / len(_authPapers)\n",
    "            else:\n",
    "                authPapers = np.nan\n",
    "        else:\n",
    "            authPapers = np.nan\n",
    "\n",
    "        # среднее значение таргета у цитируемых статей\n",
    "        if id2citOut[cur_id]:\n",
    "            _targets = []\n",
    "            for _cit_id in id2citOut[cur_id]:\n",
    "                if _cit_id in train_ids:\n",
    "                    _targets.append(id2target[_cit_id])\n",
    "            if _targets:\n",
    "                citOutTarget = sum(_targets) / len(_targets)\n",
    "            else:\n",
    "                citOutTarget = np.nan\n",
    "        else:\n",
    "            citOutTarget = 0\n",
    "\n",
    "        # топ журналов\n",
    "        top_3 = 0\n",
    "        top_10 = 0\n",
    "        top_100 = 0\n",
    "        if cur_id in id2j:\n",
    "            if id2j[cur_id] in best_j:\n",
    "                top_100 = 1\n",
    "                if id2j[cur_id] in best_j[:10]:\n",
    "                    top_10 = 1\n",
    "                    if id2j[cur_id] in best_j[:3]:\n",
    "                        top_3 = 1\n",
    "                     \n",
    "        if cur_id in train_ids:\n",
    "            train[cur_id] = {\n",
    "                \"authCnt\" : id2authCnt[cur_id],\n",
    "                \"pageCnt\" : pages,\n",
    "                \"titleLen\" : id2titleLen[cur_id],\n",
    "                \"citCnt\" : id2citCnt[cur_id], \n",
    "                \"authPapers\" : authPapers,\n",
    "                \"citOutTarget\" : citOutTarget,\n",
    "                \"top_100\" : top_100, \n",
    "                \"top_10\" : top_10, \n",
    "                \"top_3\" : top_3, \n",
    "                \"target\" : id2target[cur_id],\n",
    "            }\n",
    "        else:\n",
    "            test[cur_id] = {\n",
    "                \"authCnt\" : id2authCnt[cur_id],\n",
    "                \"pageCnt\" : pages,\n",
    "                \"titleLen\" : id2titleLen[cur_id],\n",
    "                \"citCnt\" : id2citCnt[cur_id], \n",
    "                \"authPapers\" : authPapers,\n",
    "                \"citOutTarget\" : citOutTarget,\n",
    "                \"top_100\" : top_100, \n",
    "                \"top_10\" : top_10, \n",
    "                \"top_3\" : top_3, \n",
    "                \"target\" : id2target[cur_id],\n",
    "            }\n",
    "    \n",
    "        \n",
    "        \n",
    "    train = pd.DataFrame.from_dict(train, orient='index')\n",
    "    train.reset_index(inplace=True)\n",
    "    train = train.rename(columns = {'index':'id'})\n",
    "\n",
    "    test = pd.DataFrame.from_dict(test, orient='index')\n",
    "    test.reset_index(inplace=True)\n",
    "    test = test.rename(columns = {'index':'id'})\n",
    "\n",
    "    return train, test"
   ]
  },
  {
   "cell_type": "markdown",
   "id": "classified-marble",
   "metadata": {
    "id": "classified-marble"
   },
   "source": [
    "Добавим значение из таблицы 2 в таблицу 1:"
   ]
  },
  {
   "cell_type": "code",
   "execution_count": 19,
   "id": "biblical-display",
   "metadata": {
    "id": "biblical-display"
   },
   "outputs": [],
   "source": [
    "table_1_2 = pd.merge(table_1[table_1['year'].notna()], table_2_upd, on=\"id\")"
   ]
  },
  {
   "cell_type": "markdown",
   "id": "Nv7r3cBXCW7s",
   "metadata": {
    "id": "Nv7r3cBXCW7s"
   },
   "source": [
    "Train, test:"
   ]
  },
  {
   "cell_type": "code",
   "execution_count": 20,
   "id": "UG9NyPGGr-jn",
   "metadata": {
    "id": "UG9NyPGGr-jn"
   },
   "outputs": [],
   "source": [
    "msk = np.random.rand(len(table_1_2)) < 0.95\n",
    "table_train = table_1_2[msk]\n",
    "table_test = table_1_2[~msk]"
   ]
  },
  {
   "cell_type": "code",
   "execution_count": 21,
   "id": "fifth-breathing",
   "metadata": {
    "id": "fifth-breathing"
   },
   "outputs": [],
   "source": [
    "train_df, test_df  = build_features(table_1_2, table_train, table_test)"
   ]
  },
  {
   "cell_type": "code",
   "execution_count": 22,
   "id": "iwqy0Jg4BCXT",
   "metadata": {
    "colab": {
     "base_uri": "https://localhost:8080/",
     "height": 300
    },
    "id": "iwqy0Jg4BCXT",
    "outputId": "71e6f50d-d09a-4bb4-cdb5-8ebf33e8835a"
   },
   "outputs": [
    {
     "data": {
      "text/html": [
       "<div>\n",
       "<style scoped>\n",
       "    .dataframe tbody tr th:only-of-type {\n",
       "        vertical-align: middle;\n",
       "    }\n",
       "\n",
       "    .dataframe tbody tr th {\n",
       "        vertical-align: top;\n",
       "    }\n",
       "\n",
       "    .dataframe thead th {\n",
       "        text-align: right;\n",
       "    }\n",
       "</style>\n",
       "<table border=\"1\" class=\"dataframe\">\n",
       "  <thead>\n",
       "    <tr style=\"text-align: right;\">\n",
       "      <th></th>\n",
       "      <th>authCnt</th>\n",
       "      <th>pageCnt</th>\n",
       "      <th>titleLen</th>\n",
       "      <th>citCnt</th>\n",
       "      <th>authPapers</th>\n",
       "      <th>citOutTarget</th>\n",
       "      <th>top_100</th>\n",
       "      <th>top_10</th>\n",
       "      <th>top_3</th>\n",
       "      <th>target</th>\n",
       "    </tr>\n",
       "  </thead>\n",
       "  <tbody>\n",
       "    <tr>\n",
       "      <th>count</th>\n",
       "      <td>902409.000000</td>\n",
       "      <td>394028.000000</td>\n",
       "      <td>902409.000000</td>\n",
       "      <td>902409.000000</td>\n",
       "      <td>892244.000000</td>\n",
       "      <td>600137.000000</td>\n",
       "      <td>902409.000000</td>\n",
       "      <td>902409.000000</td>\n",
       "      <td>902409.000000</td>\n",
       "      <td>902409.000000</td>\n",
       "    </tr>\n",
       "    <tr>\n",
       "      <th>mean</th>\n",
       "      <td>2.712736</td>\n",
       "      <td>8.758342</td>\n",
       "      <td>10.544729</td>\n",
       "      <td>9.525885</td>\n",
       "      <td>0.996706</td>\n",
       "      <td>0.045479</td>\n",
       "      <td>0.000145</td>\n",
       "      <td>0.000011</td>\n",
       "      <td>0.000003</td>\n",
       "      <td>0.018254</td>\n",
       "    </tr>\n",
       "    <tr>\n",
       "      <th>std</th>\n",
       "      <td>9.564644</td>\n",
       "      <td>9.193013</td>\n",
       "      <td>5.724720</td>\n",
       "      <td>24.426907</td>\n",
       "      <td>0.049982</td>\n",
       "      <td>0.352387</td>\n",
       "      <td>0.012048</td>\n",
       "      <td>0.003329</td>\n",
       "      <td>0.001823</td>\n",
       "      <td>0.159538</td>\n",
       "    </tr>\n",
       "    <tr>\n",
       "      <th>min</th>\n",
       "      <td>0.000000</td>\n",
       "      <td>0.000000</td>\n",
       "      <td>1.000000</td>\n",
       "      <td>0.000000</td>\n",
       "      <td>0.000000</td>\n",
       "      <td>0.000000</td>\n",
       "      <td>0.000000</td>\n",
       "      <td>0.000000</td>\n",
       "      <td>0.000000</td>\n",
       "      <td>0.000000</td>\n",
       "    </tr>\n",
       "    <tr>\n",
       "      <th>25%</th>\n",
       "      <td>1.000000</td>\n",
       "      <td>3.000000</td>\n",
       "      <td>6.000000</td>\n",
       "      <td>0.000000</td>\n",
       "      <td>1.000000</td>\n",
       "      <td>0.000000</td>\n",
       "      <td>0.000000</td>\n",
       "      <td>0.000000</td>\n",
       "      <td>0.000000</td>\n",
       "      <td>0.000000</td>\n",
       "    </tr>\n",
       "    <tr>\n",
       "      <th>50%</th>\n",
       "      <td>2.000000</td>\n",
       "      <td>6.000000</td>\n",
       "      <td>10.000000</td>\n",
       "      <td>0.000000</td>\n",
       "      <td>1.000000</td>\n",
       "      <td>0.000000</td>\n",
       "      <td>0.000000</td>\n",
       "      <td>0.000000</td>\n",
       "      <td>0.000000</td>\n",
       "      <td>0.000000</td>\n",
       "    </tr>\n",
       "    <tr>\n",
       "      <th>75%</th>\n",
       "      <td>3.000000</td>\n",
       "      <td>11.000000</td>\n",
       "      <td>14.000000</td>\n",
       "      <td>10.000000</td>\n",
       "      <td>1.000000</td>\n",
       "      <td>0.000000</td>\n",
       "      <td>0.000000</td>\n",
       "      <td>0.000000</td>\n",
       "      <td>0.000000</td>\n",
       "      <td>0.000000</td>\n",
       "    </tr>\n",
       "    <tr>\n",
       "      <th>max</th>\n",
       "      <td>2952.000000</td>\n",
       "      <td>99.000000</td>\n",
       "      <td>175.000000</td>\n",
       "      <td>3069.000000</td>\n",
       "      <td>1.000000</td>\n",
       "      <td>15.000000</td>\n",
       "      <td>1.000000</td>\n",
       "      <td>1.000000</td>\n",
       "      <td>1.000000</td>\n",
       "      <td>15.000000</td>\n",
       "    </tr>\n",
       "  </tbody>\n",
       "</table>\n",
       "</div>"
      ],
      "text/plain": [
       "             authCnt        pageCnt  ...          top_3         target\n",
       "count  902409.000000  394028.000000  ...  902409.000000  902409.000000\n",
       "mean        2.712736       8.758342  ...       0.000003       0.018254\n",
       "std         9.564644       9.193013  ...       0.001823       0.159538\n",
       "min         0.000000       0.000000  ...       0.000000       0.000000\n",
       "25%         1.000000       3.000000  ...       0.000000       0.000000\n",
       "50%         2.000000       6.000000  ...       0.000000       0.000000\n",
       "75%         3.000000      11.000000  ...       0.000000       0.000000\n",
       "max      2952.000000      99.000000  ...       1.000000      15.000000\n",
       "\n",
       "[8 rows x 10 columns]"
      ]
     },
     "execution_count": 22,
     "metadata": {
      "tags": []
     },
     "output_type": "execute_result"
    }
   ],
   "source": [
    "train_df.describe()"
   ]
  },
  {
   "cell_type": "code",
   "execution_count": 23,
   "id": "detected-rocket",
   "metadata": {
    "colab": {
     "base_uri": "https://localhost:8080/",
     "height": 300
    },
    "id": "detected-rocket",
    "outputId": "81acacdf-2dfd-4f5e-915b-57a1f63fc2ac"
   },
   "outputs": [
    {
     "data": {
      "text/html": [
       "<div>\n",
       "<style scoped>\n",
       "    .dataframe tbody tr th:only-of-type {\n",
       "        vertical-align: middle;\n",
       "    }\n",
       "\n",
       "    .dataframe tbody tr th {\n",
       "        vertical-align: top;\n",
       "    }\n",
       "\n",
       "    .dataframe thead th {\n",
       "        text-align: right;\n",
       "    }\n",
       "</style>\n",
       "<table border=\"1\" class=\"dataframe\">\n",
       "  <thead>\n",
       "    <tr style=\"text-align: right;\">\n",
       "      <th></th>\n",
       "      <th>authCnt</th>\n",
       "      <th>pageCnt</th>\n",
       "      <th>titleLen</th>\n",
       "      <th>citCnt</th>\n",
       "      <th>authPapers</th>\n",
       "      <th>citOutTarget</th>\n",
       "      <th>top_100</th>\n",
       "      <th>top_10</th>\n",
       "      <th>top_3</th>\n",
       "      <th>target</th>\n",
       "    </tr>\n",
       "  </thead>\n",
       "  <tbody>\n",
       "    <tr>\n",
       "      <th>count</th>\n",
       "      <td>47592.000000</td>\n",
       "      <td>20613.000000</td>\n",
       "      <td>47592.000000</td>\n",
       "      <td>47592.000000</td>\n",
       "      <td>0.0</td>\n",
       "      <td>31713.000000</td>\n",
       "      <td>47592.0</td>\n",
       "      <td>47592.0</td>\n",
       "      <td>47592.0</td>\n",
       "      <td>47592.000000</td>\n",
       "    </tr>\n",
       "    <tr>\n",
       "      <th>mean</th>\n",
       "      <td>2.651622</td>\n",
       "      <td>8.629651</td>\n",
       "      <td>10.532505</td>\n",
       "      <td>9.491070</td>\n",
       "      <td>NaN</td>\n",
       "      <td>0.045205</td>\n",
       "      <td>0.0</td>\n",
       "      <td>0.0</td>\n",
       "      <td>0.0</td>\n",
       "      <td>0.017503</td>\n",
       "    </tr>\n",
       "    <tr>\n",
       "      <th>std</th>\n",
       "      <td>4.140196</td>\n",
       "      <td>8.984032</td>\n",
       "      <td>5.750687</td>\n",
       "      <td>24.178222</td>\n",
       "      <td>NaN</td>\n",
       "      <td>0.362431</td>\n",
       "      <td>0.0</td>\n",
       "      <td>0.0</td>\n",
       "      <td>0.0</td>\n",
       "      <td>0.160006</td>\n",
       "    </tr>\n",
       "    <tr>\n",
       "      <th>min</th>\n",
       "      <td>0.000000</td>\n",
       "      <td>0.000000</td>\n",
       "      <td>1.000000</td>\n",
       "      <td>0.000000</td>\n",
       "      <td>NaN</td>\n",
       "      <td>0.000000</td>\n",
       "      <td>0.0</td>\n",
       "      <td>0.0</td>\n",
       "      <td>0.0</td>\n",
       "      <td>0.000000</td>\n",
       "    </tr>\n",
       "    <tr>\n",
       "      <th>25%</th>\n",
       "      <td>1.000000</td>\n",
       "      <td>3.000000</td>\n",
       "      <td>6.000000</td>\n",
       "      <td>0.000000</td>\n",
       "      <td>NaN</td>\n",
       "      <td>0.000000</td>\n",
       "      <td>0.0</td>\n",
       "      <td>0.0</td>\n",
       "      <td>0.0</td>\n",
       "      <td>0.000000</td>\n",
       "    </tr>\n",
       "    <tr>\n",
       "      <th>50%</th>\n",
       "      <td>2.000000</td>\n",
       "      <td>6.000000</td>\n",
       "      <td>10.000000</td>\n",
       "      <td>0.000000</td>\n",
       "      <td>NaN</td>\n",
       "      <td>0.000000</td>\n",
       "      <td>0.0</td>\n",
       "      <td>0.0</td>\n",
       "      <td>0.0</td>\n",
       "      <td>0.000000</td>\n",
       "    </tr>\n",
       "    <tr>\n",
       "      <th>75%</th>\n",
       "      <td>3.000000</td>\n",
       "      <td>11.000000</td>\n",
       "      <td>14.000000</td>\n",
       "      <td>10.000000</td>\n",
       "      <td>NaN</td>\n",
       "      <td>0.000000</td>\n",
       "      <td>0.0</td>\n",
       "      <td>0.0</td>\n",
       "      <td>0.0</td>\n",
       "      <td>0.000000</td>\n",
       "    </tr>\n",
       "    <tr>\n",
       "      <th>max</th>\n",
       "      <td>490.000000</td>\n",
       "      <td>99.000000</td>\n",
       "      <td>41.000000</td>\n",
       "      <td>1110.000000</td>\n",
       "      <td>NaN</td>\n",
       "      <td>13.000000</td>\n",
       "      <td>0.0</td>\n",
       "      <td>0.0</td>\n",
       "      <td>0.0</td>\n",
       "      <td>10.000000</td>\n",
       "    </tr>\n",
       "  </tbody>\n",
       "</table>\n",
       "</div>"
      ],
      "text/plain": [
       "            authCnt       pageCnt      titleLen  ...   top_10    top_3        target\n",
       "count  47592.000000  20613.000000  47592.000000  ...  47592.0  47592.0  47592.000000\n",
       "mean       2.651622      8.629651     10.532505  ...      0.0      0.0      0.017503\n",
       "std        4.140196      8.984032      5.750687  ...      0.0      0.0      0.160006\n",
       "min        0.000000      0.000000      1.000000  ...      0.0      0.0      0.000000\n",
       "25%        1.000000      3.000000      6.000000  ...      0.0      0.0      0.000000\n",
       "50%        2.000000      6.000000     10.000000  ...      0.0      0.0      0.000000\n",
       "75%        3.000000     11.000000     14.000000  ...      0.0      0.0      0.000000\n",
       "max      490.000000     99.000000     41.000000  ...      0.0      0.0     10.000000\n",
       "\n",
       "[8 rows x 10 columns]"
      ]
     },
     "execution_count": 23,
     "metadata": {
      "tags": []
     },
     "output_type": "execute_result"
    }
   ],
   "source": [
    "test_df.describe()"
   ]
  },
  {
   "cell_type": "markdown",
   "id": "JO8oqwYXCd9i",
   "metadata": {
    "id": "JO8oqwYXCd9i"
   },
   "source": [
    "Здесь видно, почему я решил отказатья от некоторых признаков."
   ]
  },
  {
   "cell_type": "markdown",
   "id": "played-institution",
   "metadata": {
    "id": "played-institution"
   },
   "source": [
    "# PART 2\n",
    "## Model prediciton"
   ]
  },
  {
   "cell_type": "code",
   "execution_count": 30,
   "id": "hN9rJY8P43qY",
   "metadata": {
    "id": "hN9rJY8P43qY"
   },
   "outputs": [],
   "source": [
    "def fill_na(column):\n",
    "    test_df[column] = test_df[column].fillna(train_df[column].mean())\n",
    "    train_df[column] = train_df[column].fillna(train_df[column].mean())"
   ]
  },
  {
   "cell_type": "code",
   "execution_count": 31,
   "id": "VYEyCvZkCj94",
   "metadata": {
    "id": "VYEyCvZkCj94"
   },
   "outputs": [],
   "source": [
    "fill_na('pageCnt')\n",
    "fill_na('authCnt')\n",
    "fill_na('titleLen')\n",
    "fill_na('citOutTarget')\n",
    "fill_na('citCnt')"
   ]
  },
  {
   "cell_type": "code",
   "execution_count": 64,
   "id": "f3-j_sefCkAL",
   "metadata": {
    "id": "f3-j_sefCkAL"
   },
   "outputs": [],
   "source": [
    "X_train = train_df[[\"authCnt\", \"pageCnt\", \"titleLen\", \"citCnt\", \"citOutTarget\"]].to_numpy()\n",
    "y_train = train_df[[\"target\"]].to_numpy().ravel()"
   ]
  },
  {
   "cell_type": "code",
   "execution_count": 65,
   "id": "t6qwpXa4YuUE",
   "metadata": {
    "id": "t6qwpXa4YuUE"
   },
   "outputs": [],
   "source": [
    "X_test = test_df[[\"authCnt\", \"pageCnt\", \"titleLen\", \"citCnt\", \"citOutTarget\"]].to_numpy()\n",
    "y_test = test_df[[\"target\"]].to_numpy().ravel()"
   ]
  },
  {
   "cell_type": "code",
   "execution_count": 66,
   "id": "Xc55eTw-CkDE",
   "metadata": {
    "colab": {
     "base_uri": "https://localhost:8080/"
    },
    "id": "Xc55eTw-CkDE",
    "outputId": "5420774d-71a1-40c9-d1f8-2aa00e8074b7"
   },
   "outputs": [
    {
     "data": {
      "text/plain": [
       "((902409, 5), (902409,), (47592, 5), (47592,))"
      ]
     },
     "execution_count": 66,
     "metadata": {
      "tags": []
     },
     "output_type": "execute_result"
    }
   ],
   "source": [
    "X_train.shape, y_train.shape, X_test.shape, y_test.shape"
   ]
  },
  {
   "cell_type": "code",
   "execution_count": 78,
   "id": "extended-driving",
   "metadata": {
    "id": "extended-driving"
   },
   "outputs": [],
   "source": [
    "model = lgb.LGBMRegressor(n_estimators=50, max_depth=4, learning_rate=0.01)"
   ]
  },
  {
   "cell_type": "code",
   "execution_count": 83,
   "id": "x3HBlmyy6dVo",
   "metadata": {
    "colab": {
     "base_uri": "https://localhost:8080/"
    },
    "id": "x3HBlmyy6dVo",
    "outputId": "6b3565e2-b699-4274-d841-d1d1926cd9f4"
   },
   "outputs": [
    {
     "data": {
      "text/plain": [
       "LGBMRegressor(boosting_type='gbdt', class_weight=None, colsample_bytree=1.0,\n",
       "              importance_type='split', learning_rate=0.01, max_depth=4,\n",
       "              min_child_samples=20, min_child_weight=0.001, min_split_gain=0.0,\n",
       "              n_estimators=50, n_jobs=-1, num_leaves=31, objective=None,\n",
       "              random_state=None, reg_alpha=0.0, reg_lambda=0.0, silent=True,\n",
       "              subsample=1.0, subsample_for_bin=200000, subsample_freq=0)"
      ]
     },
     "execution_count": 83,
     "metadata": {
      "tags": []
     },
     "output_type": "execute_result"
    }
   ],
   "source": [
    "model.fit(X_train, y_train, feature_name=[\"authCnt\", \"pageCnt\", \"titleLen\", \"citCnt\", \"citOutTarget\"])"
   ]
  },
  {
   "cell_type": "code",
   "execution_count": 84,
   "id": "Tz5LIoHJ6dkr",
   "metadata": {
    "colab": {
     "base_uri": "https://localhost:8080/",
     "height": 312
    },
    "id": "Tz5LIoHJ6dkr",
    "outputId": "96cd8884-6252-4d06-a84b-f55c150100de"
   },
   "outputs": [
    {
     "data": {
      "text/plain": [
       "<matplotlib.axes._subplots.AxesSubplot at 0x7fe790454f90>"
      ]
     },
     "execution_count": 84,
     "metadata": {
      "tags": []
     },
     "output_type": "execute_result"
    },
    {
     "data": {
      "image/png": "[encoded data removed]",
      "text/plain": [
       "<Figure size 432x288 with 1 Axes>"
      ]
     },
     "metadata": {
      "needs_background": "light",
      "tags": []
     },
     "output_type": "display_data"
    }
   ],
   "source": [
    "lgb.plot_importance(model)"
   ]
  },
  {
   "cell_type": "markdown",
   "id": "r7Gp9DIoLZUs",
   "metadata": {
    "id": "r7Gp9DIoLZUs"
   },
   "source": [
    "В нашей модели самыми значимыми получились признаки - количество авторов и количество цитат. Число страниц, количество слов в названии,и искомое значение у цитируемых статей заметно менее важны. "
   ]
  },
  {
   "cell_type": "code",
   "execution_count": 85,
   "id": "AqvKHNku6dX5",
   "metadata": {
    "id": "AqvKHNku6dX5"
   },
   "outputs": [],
   "source": [
    "y_pred = model.predict(X_test)"
   ]
  },
  {
   "cell_type": "code",
   "execution_count": 86,
   "id": "15S5wVun6dgU",
   "metadata": {
    "colab": {
     "base_uri": "https://localhost:8080/"
    },
    "id": "15S5wVun6dgU",
    "outputId": "2327f894-bd6c-4f15-d926-1cb3ffac16ee"
   },
   "outputs": [
    {
     "data": {
      "text/plain": [
       "0.017885118252701893"
      ]
     },
     "execution_count": 86,
     "metadata": {
      "tags": []
     },
     "output_type": "execute_result"
    }
   ],
   "source": [
    "r2_score(y_test, y_pred)"
   ]
  },
  {
   "cell_type": "markdown",
   "id": "GfjHMVs6HObH",
   "metadata": {
    "id": "GfjHMVs6HObH"
   },
   "source": [
    "Мягко говоря, результат получился не очень. Я считаю, что основная причина этого заключается в наших данных, а именно в том, что мы работаем только с маленькой выборкой из всего датасета. Поэтому получились очень разрозненные данные - авторы почти не повторяются, журналов также крайне много относительно размеров выборки - из-за этого не получилось использовать большое количество признаков, которые, по моему предположению, должны были бы быть достаточно важны. Также достаточно много экземпляров, для которых отсутсвует почти вся информация - для таких примеров сложно ожидать хорошего резултата."
   ]
  },
  {
   "cell_type": "markdown",
   "id": "lNkb_C_PNRu7",
   "metadata": {
    "id": "lNkb_C_PNRu7"
   },
   "source": [
    "#### Dataset №2"
   ]
  },
  {
   "cell_type": "markdown",
   "id": "voluntary-stockholm",
   "metadata": {
    "id": "8Y22r_Zr6dmx"
   },
   "source": [
    "Попробуем эту же модель на готовых данных."
   ]
  },
  {
   "cell_type": "code",
   "execution_count": 4,
   "id": "moderate-headquarters",
   "metadata": {},
   "outputs": [],
   "source": [
    "df = pd.read_csv('predict.csv')"
   ]
  },
  {
   "cell_type": "code",
   "execution_count": 6,
   "id": "collective-perception",
   "metadata": {},
   "outputs": [
    {
     "data": {
      "text/html": [
       "<div>\n",
       "<style scoped>\n",
       "    .dataframe tbody tr th:only-of-type {\n",
       "        vertical-align: middle;\n",
       "    }\n",
       "\n",
       "    .dataframe tbody tr th {\n",
       "        vertical-align: top;\n",
       "    }\n",
       "\n",
       "    .dataframe thead th {\n",
       "        text-align: right;\n",
       "    }\n",
       "</style>\n",
       "<table border=\"1\" class=\"dataframe\">\n",
       "  <thead>\n",
       "    <tr style=\"text-align: right;\">\n",
       "      <th></th>\n",
       "      <th>recency</th>\n",
       "      <th>topic_rank</th>\n",
       "      <th>diversity</th>\n",
       "      <th>authors_mean_rank</th>\n",
       "      <th>authors_mean_hindex</th>\n",
       "      <th>authors_mean_gindex</th>\n",
       "      <th>authors_mean_sociality</th>\n",
       "      <th>authors_mean_pagerank</th>\n",
       "      <th>authors_mean_productivity</th>\n",
       "      <th>journal_pagerank</th>\n",
       "      <th>journal_rank</th>\n",
       "      <th>title_len</th>\n",
       "      <th>abstract_len</th>\n",
       "      <th>n_authors</th>\n",
       "      <th>c5</th>\n",
       "      <th>log_authors_mean_sociality</th>\n",
       "    </tr>\n",
       "  </thead>\n",
       "  <tbody>\n",
       "    <tr>\n",
       "      <th>count</th>\n",
       "      <td>479.000000</td>\n",
       "      <td>479.000000</td>\n",
       "      <td>479.000000</td>\n",
       "      <td>473.000000</td>\n",
       "      <td>473.000000</td>\n",
       "      <td>473.000000</td>\n",
       "      <td>473.000000</td>\n",
       "      <td>0.0</td>\n",
       "      <td>0.0</td>\n",
       "      <td>0.0</td>\n",
       "      <td>440.000000</td>\n",
       "      <td>479.000000</td>\n",
       "      <td>479.000000</td>\n",
       "      <td>479.000000</td>\n",
       "      <td>479.000000</td>\n",
       "      <td>473.000000</td>\n",
       "    </tr>\n",
       "    <tr>\n",
       "      <th>mean</th>\n",
       "      <td>13.419624</td>\n",
       "      <td>10.125261</td>\n",
       "      <td>-0.675481</td>\n",
       "      <td>741.769615</td>\n",
       "      <td>0.844051</td>\n",
       "      <td>0.844668</td>\n",
       "      <td>3.411132</td>\n",
       "      <td>NaN</td>\n",
       "      <td>NaN</td>\n",
       "      <td>NaN</td>\n",
       "      <td>146.184091</td>\n",
       "      <td>94.983299</td>\n",
       "      <td>1162.283925</td>\n",
       "      <td>4.369520</td>\n",
       "      <td>6.713987</td>\n",
       "      <td>1.264066</td>\n",
       "    </tr>\n",
       "    <tr>\n",
       "      <th>std</th>\n",
       "      <td>5.860415</td>\n",
       "      <td>5.748655</td>\n",
       "      <td>0.606013</td>\n",
       "      <td>581.948922</td>\n",
       "      <td>0.363961</td>\n",
       "      <td>0.364351</td>\n",
       "      <td>2.790555</td>\n",
       "      <td>NaN</td>\n",
       "      <td>NaN</td>\n",
       "      <td>NaN</td>\n",
       "      <td>111.398299</td>\n",
       "      <td>38.524238</td>\n",
       "      <td>657.597003</td>\n",
       "      <td>2.800775</td>\n",
       "      <td>12.547968</td>\n",
       "      <td>0.703466</td>\n",
       "    </tr>\n",
       "    <tr>\n",
       "      <th>min</th>\n",
       "      <td>5.000000</td>\n",
       "      <td>1.000000</td>\n",
       "      <td>-2.995732</td>\n",
       "      <td>1.000000</td>\n",
       "      <td>0.000000</td>\n",
       "      <td>0.000000</td>\n",
       "      <td>0.000000</td>\n",
       "      <td>NaN</td>\n",
       "      <td>NaN</td>\n",
       "      <td>NaN</td>\n",
       "      <td>1.000000</td>\n",
       "      <td>16.000000</td>\n",
       "      <td>0.000000</td>\n",
       "      <td>1.000000</td>\n",
       "      <td>0.000000</td>\n",
       "      <td>0.000000</td>\n",
       "    </tr>\n",
       "    <tr>\n",
       "      <th>25%</th>\n",
       "      <td>8.000000</td>\n",
       "      <td>5.000000</td>\n",
       "      <td>-1.087146</td>\n",
       "      <td>265.000000</td>\n",
       "      <td>1.000000</td>\n",
       "      <td>1.000000</td>\n",
       "      <td>1.000000</td>\n",
       "      <td>NaN</td>\n",
       "      <td>NaN</td>\n",
       "      <td>NaN</td>\n",
       "      <td>53.750000</td>\n",
       "      <td>68.000000</td>\n",
       "      <td>758.500000</td>\n",
       "      <td>2.000000</td>\n",
       "      <td>0.000000</td>\n",
       "      <td>0.693147</td>\n",
       "    </tr>\n",
       "    <tr>\n",
       "      <th>50%</th>\n",
       "      <td>13.000000</td>\n",
       "      <td>10.000000</td>\n",
       "      <td>-0.526332</td>\n",
       "      <td>596.000000</td>\n",
       "      <td>1.000000</td>\n",
       "      <td>1.000000</td>\n",
       "      <td>3.000000</td>\n",
       "      <td>NaN</td>\n",
       "      <td>NaN</td>\n",
       "      <td>NaN</td>\n",
       "      <td>122.000000</td>\n",
       "      <td>91.000000</td>\n",
       "      <td>1197.000000</td>\n",
       "      <td>4.000000</td>\n",
       "      <td>2.000000</td>\n",
       "      <td>1.386294</td>\n",
       "    </tr>\n",
       "    <tr>\n",
       "      <th>75%</th>\n",
       "      <td>18.000000</td>\n",
       "      <td>15.000000</td>\n",
       "      <td>-0.150066</td>\n",
       "      <td>1141.000000</td>\n",
       "      <td>1.000000</td>\n",
       "      <td>1.000000</td>\n",
       "      <td>5.000000</td>\n",
       "      <td>NaN</td>\n",
       "      <td>NaN</td>\n",
       "      <td>NaN</td>\n",
       "      <td>216.750000</td>\n",
       "      <td>116.500000</td>\n",
       "      <td>1587.500000</td>\n",
       "      <td>6.000000</td>\n",
       "      <td>8.000000</td>\n",
       "      <td>1.791759</td>\n",
       "    </tr>\n",
       "    <tr>\n",
       "      <th>max</th>\n",
       "      <td>25.000000</td>\n",
       "      <td>20.000000</td>\n",
       "      <td>-0.056685</td>\n",
       "      <td>2336.000000</td>\n",
       "      <td>1.125000</td>\n",
       "      <td>1.166667</td>\n",
       "      <td>15.000000</td>\n",
       "      <td>NaN</td>\n",
       "      <td>NaN</td>\n",
       "      <td>NaN</td>\n",
       "      <td>436.000000</td>\n",
       "      <td>279.000000</td>\n",
       "      <td>3655.000000</td>\n",
       "      <td>16.000000</td>\n",
       "      <td>154.000000</td>\n",
       "      <td>2.772589</td>\n",
       "    </tr>\n",
       "  </tbody>\n",
       "</table>\n",
       "</div>"
      ],
      "text/plain": [
       "          recency  topic_rank   diversity  authors_mean_rank  \\\n",
       "count  479.000000  479.000000  479.000000         473.000000   \n",
       "mean    13.419624   10.125261   -0.675481         741.769615   \n",
       "std      5.860415    5.748655    0.606013         581.948922   \n",
       "min      5.000000    1.000000   -2.995732           1.000000   \n",
       "25%      8.000000    5.000000   -1.087146         265.000000   \n",
       "50%     13.000000   10.000000   -0.526332         596.000000   \n",
       "75%     18.000000   15.000000   -0.150066        1141.000000   \n",
       "max     25.000000   20.000000   -0.056685        2336.000000   \n",
       "\n",
       "       authors_mean_hindex  authors_mean_gindex  authors_mean_sociality  \\\n",
       "count           473.000000           473.000000              473.000000   \n",
       "mean              0.844051             0.844668                3.411132   \n",
       "std               0.363961             0.364351                2.790555   \n",
       "min               0.000000             0.000000                0.000000   \n",
       "25%               1.000000             1.000000                1.000000   \n",
       "50%               1.000000             1.000000                3.000000   \n",
       "75%               1.000000             1.000000                5.000000   \n",
       "max               1.125000             1.166667               15.000000   \n",
       "\n",
       "       authors_mean_pagerank  authors_mean_productivity  journal_pagerank  \\\n",
       "count                    0.0                        0.0               0.0   \n",
       "mean                     NaN                        NaN               NaN   \n",
       "std                      NaN                        NaN               NaN   \n",
       "min                      NaN                        NaN               NaN   \n",
       "25%                      NaN                        NaN               NaN   \n",
       "50%                      NaN                        NaN               NaN   \n",
       "75%                      NaN                        NaN               NaN   \n",
       "max                      NaN                        NaN               NaN   \n",
       "\n",
       "       journal_rank   title_len  abstract_len   n_authors          c5  \\\n",
       "count    440.000000  479.000000    479.000000  479.000000  479.000000   \n",
       "mean     146.184091   94.983299   1162.283925    4.369520    6.713987   \n",
       "std      111.398299   38.524238    657.597003    2.800775   12.547968   \n",
       "min        1.000000   16.000000      0.000000    1.000000    0.000000   \n",
       "25%       53.750000   68.000000    758.500000    2.000000    0.000000   \n",
       "50%      122.000000   91.000000   1197.000000    4.000000    2.000000   \n",
       "75%      216.750000  116.500000   1587.500000    6.000000    8.000000   \n",
       "max      436.000000  279.000000   3655.000000   16.000000  154.000000   \n",
       "\n",
       "       log_authors_mean_sociality  \n",
       "count                  473.000000  \n",
       "mean                     1.264066  \n",
       "std                      0.703466  \n",
       "min                      0.000000  \n",
       "25%                      0.693147  \n",
       "50%                      1.386294  \n",
       "75%                      1.791759  \n",
       "max                      2.772589  "
      ]
     },
     "execution_count": 6,
     "metadata": {},
     "output_type": "execute_result"
    }
   ],
   "source": [
    "df.describe()"
   ]
  },
  {
   "cell_type": "code",
   "execution_count": 13,
   "id": "automotive-neighbor",
   "metadata": {},
   "outputs": [],
   "source": [
    "features_names = [\"recency\", \"topic_rank\", \"diversity\", \"authors_mean_rank\", \"authors_mean_hindex\",\n",
    "        \"authors_mean_gindex\", \"authors_mean_sociality\", \"journal_rank\", \"title_len\", \n",
    "        \"abstract_len\", \"n_authors\", \"log_authors_mean_sociality\"]"
   ]
  },
  {
   "cell_type": "code",
   "execution_count": 14,
   "id": "innocent-contemporary",
   "metadata": {},
   "outputs": [],
   "source": [
    "X = df[features_names].to_numpy()\n",
    "y = df[[\"c5\"]].to_numpy().ravel()"
   ]
  },
  {
   "cell_type": "code",
   "execution_count": 15,
   "id": "accomplished-popularity",
   "metadata": {},
   "outputs": [],
   "source": [
    "X_train, X_test, y_train, y_test = train_test_split(X, y, test_size=0.3, random_state=42)"
   ]
  },
  {
   "cell_type": "code",
   "execution_count": 16,
   "id": "desirable-proof",
   "metadata": {},
   "outputs": [
    {
     "data": {
      "text/plain": [
       "((335, 12), (144, 12), (335,), (144,))"
      ]
     },
     "execution_count": 16,
     "metadata": {},
     "output_type": "execute_result"
    }
   ],
   "source": [
    "X_train.shape, X_test.shape, y_train.shape, y_test.shape"
   ]
  },
  {
   "cell_type": "code",
   "execution_count": 12,
   "id": "centered-thirty",
   "metadata": {},
   "outputs": [],
   "source": [
    "model_2 = lgb.LGBMRegressor(n_estimators=80, max_depth=8, learning_rate=0.1)"
   ]
  },
  {
   "cell_type": "code",
   "execution_count": 18,
   "id": "automated-worcester",
   "metadata": {},
   "outputs": [
    {
     "name": "stdout",
     "output_type": "stream",
     "text": [
      "[LightGBM] [Warning] Accuracy may be bad since you didn't explicitly set num_leaves OR 2^max_depth > num_leaves. (num_leaves=31).\n"
     ]
    },
    {
     "data": {
      "text/plain": [
       "LGBMRegressor(max_depth=8, n_estimators=80)"
      ]
     },
     "execution_count": 18,
     "metadata": {},
     "output_type": "execute_result"
    }
   ],
   "source": [
    "model_2.fit(X_train, y_train, feature_name=features_names)"
   ]
  },
  {
   "cell_type": "code",
   "execution_count": 19,
   "id": "imperial-metadata",
   "metadata": {},
   "outputs": [
    {
     "data": {
      "text/plain": [
       "<AxesSubplot:title={'center':'Feature importance'}, xlabel='Feature importance', ylabel='Features'>"
      ]
     },
     "execution_count": 19,
     "metadata": {},
     "output_type": "execute_result"
    },
    {
     "data": {
      "image/png": "[encoded data removed]",
      "text/plain": [
       "<Figure size 432x288 with 1 Axes>"
      ]
     },
     "metadata": {
      "needs_background": "light"
     },
     "output_type": "display_data"
    }
   ],
   "source": [
    "lgb.plot_importance(model_2)"
   ]
  },
  {
   "cell_type": "markdown",
   "id": "prompt-marble",
   "metadata": {},
   "source": [
    "Здесь мы как раз видим, что самые важные признаки основаны на информации об авторах и журнале."
   ]
  },
  {
   "cell_type": "code",
   "execution_count": 21,
   "id": "herbal-employer",
   "metadata": {},
   "outputs": [],
   "source": [
    "y_pred = model_2.predict(X_test)"
   ]
  },
  {
   "cell_type": "code",
   "execution_count": 22,
   "id": "configured-decline",
   "metadata": {},
   "outputs": [
    {
     "data": {
      "text/plain": [
       "0.51279363374032"
      ]
     },
     "execution_count": 22,
     "metadata": {},
     "output_type": "execute_result"
    }
   ],
   "source": [
    "r2_score(y_test, y_pred)"
   ]
  },
  {
   "cell_type": "code",
   "execution_count": 23,
   "id": "capital-advice",
   "metadata": {},
   "outputs": [],
   "source": [
    "y_pred_r = np.round(y_pred)"
   ]
  },
  {
   "cell_type": "code",
   "execution_count": 24,
   "id": "described-electric",
   "metadata": {},
   "outputs": [
    {
     "data": {
      "text/plain": [
       "0.5108196337806512"
      ]
     },
     "execution_count": 24,
     "metadata": {},
     "output_type": "execute_result"
    }
   ],
   "source": [
    "r2_score(y_test, y_pred_r)"
   ]
  },
  {
   "cell_type": "markdown",
   "id": "naked-reference",
   "metadata": {},
   "source": [
    "Все равно результат оставляет желать лучшего, но он уже не сравнится с первой моделью. Думаю, что 400 экземпляров не хватает для качественного результата."
   ]
  },
  {
   "cell_type": "code",
   "execution_count": null,
   "id": "unnecessary-vietnam",
   "metadata": {},
   "outputs": [],
   "source": []
  }
 ],
 "metadata": {
  "colab": {
   "collapsed_sections": [],
   "name": "solution.ipynb",
   "provenance": []
  },
  "kernelspec": {
   "display_name": "Python 3",
   "language": "python",
   "name": "python3"
  },
  "language_info": {
   "codemirror_mode": {
    "name": "ipython",
    "version": 3
   },
   "file_extension": ".py",
   "mimetype": "text/x-python",
   "name": "python",
   "nbconvert_exporter": "python",
   "pygments_lexer": "ipython3",
   "version": "3.8.5"
  }
 },
 "nbformat": 4,
 "nbformat_minor": 5
}
